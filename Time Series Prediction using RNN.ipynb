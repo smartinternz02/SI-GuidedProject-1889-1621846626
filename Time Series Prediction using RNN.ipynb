{
 "cells": [
  {
   "cell_type": "code",
   "execution_count": 1,
   "metadata": {},
   "outputs": [],
   "source": [
    "import pandas as pd\n",
    "import numpy as np\n",
    "import matplotlib.pyplot as plt"
   ]
  },
  {
   "cell_type": "code",
   "execution_count": 2,
   "metadata": {},
   "outputs": [],
   "source": [
    "dataset = pd.read_csv('airline-passengers.csv',usecols=[1], engine='python')"
   ]
  },
  {
   "cell_type": "code",
   "execution_count": 3,
   "metadata": {},
   "outputs": [
    {
     "data": {
      "image/png": "[encoded data removed]",
      "text/plain": [
       "<Figure size 432x288 with 1 Axes>"
      ]
     },
     "metadata": {
      "needs_background": "light"
     },
     "output_type": "display_data"
    }
   ],
   "source": [
    "plt.plot(dataset)\n",
    "plt.show()"
   ]
  },
  {
   "cell_type": "markdown",
   "metadata": {},
   "source": [
    "# Observations\n",
    "1.We can see an upward trend in the dataset over time.\n",
    "\n",
    "2.We can also see some periodicity to the dataset that probably corresponds to the Northern Hemisphere vacation period."
   ]
  },
  {
   "cell_type": "code",
   "execution_count": 4,
   "metadata": {},
   "outputs": [],
   "source": [
    "import math\n",
    "from keras.models import Sequential\n",
    "from keras.layers import Dense\n",
    "from keras.layers import LSTM\n",
    "from sklearn.preprocessing import MinMaxScaler\n",
    "from sklearn.metrics import mean_squared_error"
   ]
  },
  {
   "cell_type": "code",
   "execution_count": 5,
   "metadata": {},
   "outputs": [],
   "source": [
    "# fix random seed for reproducibility\n",
    "np.random.seed(7)"
   ]
  },
  {
   "cell_type": "code",
   "execution_count": 6,
   "metadata": {},
   "outputs": [],
   "source": [
    "dataset = dataset.astype('float32')"
   ]
  },
  {
   "cell_type": "code",
   "execution_count": 7,
   "metadata": {},
   "outputs": [],
   "source": [
    "#LSTMs are sensitive to the scale of the input data, specifically when the sigmoid (default) or tanh activation functions are used.\n",
    "#Normalize the dataset\n",
    "scaler = MinMaxScaler(feature_range=(0, 1))\n",
    "dataset = scaler.fit_transform(dataset)"
   ]
  },
  {
   "cell_type": "code",
   "execution_count": 8,
   "metadata": {},
   "outputs": [
    {
     "name": "stdout",
     "output_type": "stream",
     "text": [
      "86 58\n"
     ]
    }
   ],
   "source": [
    "# split into train and test sets\n",
    "train_size = int(len(dataset) * 0.60)\n",
    "test_size = len(dataset) - train_size\n",
    "train, test = dataset[0:train_size,:], dataset[train_size:len(dataset),:]\n",
    "print(len(train), len(test))"
   ]
  },
  {
   "cell_type": "code",
   "execution_count": 9,
   "metadata": {},
   "outputs": [],
   "source": [
    "#The function takes two arguments: the dataset, which is a NumPy array that we want to convert into a dataset, \n",
    "#and the look_back, which is the number of previous time steps to use as input variables to predict the next time \n",
    "#period — in this case defaulted to 1."
   ]
  },
  {
   "cell_type": "code",
   "execution_count": 10,
   "metadata": {},
   "outputs": [],
   "source": [
    "#This default will create a dataset where X is the number of passengers at a given time (t) and \n",
    "#Y is the number of passengers at the next time (t + 1)."
   ]
  },
  {
   "cell_type": "code",
   "execution_count": 11,
   "metadata": {},
   "outputs": [],
   "source": [
    "# convert an array of values into a dataset matrix\n",
    "def create_dataset(dataset, look_back=1):\n",
    "    dataX, dataY = [], []\n",
    "    for i in range(len(dataset)-look_back-1):\n",
    "        a = dataset[i:(i+look_back), 0]\n",
    "        dataX.append(a)\n",
    "        dataY.append(dataset[i + look_back, 0])\n",
    "    return np.array(dataX), np.array(dataY)"
   ]
  },
  {
   "cell_type": "code",
   "execution_count": 12,
   "metadata": {},
   "outputs": [],
   "source": [
    "# use this function to prepare the train and test datasets for modeling.\n",
    "#reshape into X=t and Y=t+1\n",
    "look_back = 1\n",
    "trainX, trainY = create_dataset(train, look_back)\n",
    "testX, testY = create_dataset(test, look_back)"
   ]
  },
  {
   "cell_type": "code",
   "execution_count": 13,
   "metadata": {},
   "outputs": [],
   "source": [
    "#The LSTM network expects the input data (X) to be provided with a specific array structure in the form of: \n",
    "#[samples, time steps, features].\n",
    "#Currently, our data is in the form: [samples, features] and we are framing the problem as one time step for each sample. \n"
   ]
  },
  {
   "cell_type": "code",
   "execution_count": 14,
   "metadata": {},
   "outputs": [],
   "source": [
    "# reshape input to be [samples, time steps, features]\n",
    "trainX = np.reshape(trainX, (trainX.shape[0], 1, trainX.shape[1]))\n",
    "testX = np.reshape(testX, (testX.shape[0], 1, testX.shape[1]))"
   ]
  },
  {
   "cell_type": "code",
   "execution_count": 15,
   "metadata": {},
   "outputs": [
    {
     "name": "stdout",
     "output_type": "stream",
     "text": [
      "Epoch 1/65\n",
      "84/84 - 31s - loss: 0.0322\n",
      "Epoch 2/65\n",
      "84/84 - 0s - loss: 0.0156\n",
      "Epoch 3/65\n",
      "84/84 - 0s - loss: 0.0113\n",
      "Epoch 4/65\n",
      "84/84 - 0s - loss: 0.0105\n",
      "Epoch 5/65\n",
      "84/84 - 0s - loss: 0.0101\n",
      "Epoch 6/65\n",
      "84/84 - 0s - loss: 0.0097\n",
      "Epoch 7/65\n",
      "84/84 - 0s - loss: 0.0092\n",
      "Epoch 8/65\n",
      "84/84 - 0s - loss: 0.0087\n",
      "Epoch 9/65\n",
      "84/84 - 0s - loss: 0.0081\n",
      "Epoch 10/65\n",
      "84/84 - 0s - loss: 0.0076\n",
      "Epoch 11/65\n",
      "84/84 - 0s - loss: 0.0071\n",
      "Epoch 12/65\n",
      "84/84 - 0s - loss: 0.0066\n",
      "Epoch 13/65\n",
      "84/84 - 0s - loss: 0.0061\n",
      "Epoch 14/65\n",
      "84/84 - 0s - loss: 0.0055\n",
      "Epoch 15/65\n",
      "84/84 - 0s - loss: 0.0050\n",
      "Epoch 16/65\n",
      "84/84 - 0s - loss: 0.0045\n",
      "Epoch 17/65\n",
      "84/84 - 0s - loss: 0.0040\n",
      "Epoch 18/65\n",
      "84/84 - 0s - loss: 0.0036\n",
      "Epoch 19/65\n",
      "84/84 - 0s - loss: 0.0034\n",
      "Epoch 20/65\n",
      "84/84 - 0s - loss: 0.0030\n",
      "Epoch 21/65\n",
      "84/84 - 0s - loss: 0.0027\n",
      "Epoch 22/65\n",
      "84/84 - 0s - loss: 0.0025\n",
      "Epoch 23/65\n",
      "84/84 - 0s - loss: 0.0023\n",
      "Epoch 24/65\n",
      "84/84 - 0s - loss: 0.0021\n",
      "Epoch 25/65\n",
      "84/84 - 0s - loss: 0.0020\n",
      "Epoch 26/65\n",
      "84/84 - 0s - loss: 0.0018\n",
      "Epoch 27/65\n",
      "84/84 - 0s - loss: 0.0020\n",
      "Epoch 28/65\n",
      "84/84 - 0s - loss: 0.0018\n",
      "Epoch 29/65\n",
      "84/84 - 0s - loss: 0.0018\n",
      "Epoch 30/65\n",
      "84/84 - 0s - loss: 0.0018\n",
      "Epoch 31/65\n",
      "84/84 - 0s - loss: 0.0018\n",
      "Epoch 32/65\n",
      "84/84 - 0s - loss: 0.0018\n",
      "Epoch 33/65\n",
      "84/84 - 0s - loss: 0.0018\n",
      "Epoch 34/65\n",
      "84/84 - 0s - loss: 0.0018\n",
      "Epoch 35/65\n",
      "84/84 - 0s - loss: 0.0018\n",
      "Epoch 36/65\n",
      "84/84 - 0s - loss: 0.0017\n",
      "Epoch 37/65\n",
      "84/84 - 0s - loss: 0.0017\n",
      "Epoch 38/65\n",
      "84/84 - 0s - loss: 0.0018\n",
      "Epoch 39/65\n",
      "84/84 - 0s - loss: 0.0018\n",
      "Epoch 40/65\n",
      "84/84 - 0s - loss: 0.0017\n",
      "Epoch 41/65\n",
      "84/84 - 0s - loss: 0.0018\n",
      "Epoch 42/65\n",
      "84/84 - 0s - loss: 0.0018\n",
      "Epoch 43/65\n",
      "84/84 - 0s - loss: 0.0017\n",
      "Epoch 44/65\n",
      "84/84 - 0s - loss: 0.0017\n",
      "Epoch 45/65\n",
      "84/84 - 0s - loss: 0.0017\n",
      "Epoch 46/65\n",
      "84/84 - 0s - loss: 0.0018\n",
      "Epoch 47/65\n",
      "84/84 - 0s - loss: 0.0017\n",
      "Epoch 48/65\n",
      "84/84 - 0s - loss: 0.0017\n",
      "Epoch 49/65\n",
      "84/84 - 0s - loss: 0.0017\n",
      "Epoch 50/65\n",
      "84/84 - 0s - loss: 0.0018\n",
      "Epoch 51/65\n",
      "84/84 - 0s - loss: 0.0018\n",
      "Epoch 52/65\n",
      "84/84 - 0s - loss: 0.0017\n",
      "Epoch 53/65\n",
      "84/84 - 0s - loss: 0.0018\n",
      "Epoch 54/65\n",
      "84/84 - 0s - loss: 0.0018\n",
      "Epoch 55/65\n",
      "84/84 - 0s - loss: 0.0018\n",
      "Epoch 56/65\n",
      "84/84 - 0s - loss: 0.0017\n",
      "Epoch 57/65\n",
      "84/84 - 0s - loss: 0.0018\n",
      "Epoch 58/65\n",
      "84/84 - 0s - loss: 0.0018\n",
      "Epoch 59/65\n",
      "84/84 - 0s - loss: 0.0017\n",
      "Epoch 60/65\n",
      "84/84 - 0s - loss: 0.0018\n",
      "Epoch 61/65\n",
      "84/84 - 0s - loss: 0.0018\n",
      "Epoch 62/65\n",
      "84/84 - 0s - loss: 0.0017\n",
      "Epoch 63/65\n",
      "84/84 - 0s - loss: 0.0018\n",
      "Epoch 64/65\n",
      "84/84 - 0s - loss: 0.0018\n",
      "Epoch 65/65\n",
      "84/84 - 0s - loss: 0.0017\n"
     ]
    },
    {
     "data": {
      "text/plain": [
       "<keras.callbacks.History at 0x2be5eeef400>"
      ]
     },
     "execution_count": 15,
     "metadata": {},
     "output_type": "execute_result"
    }
   ],
   "source": [
    "# create and fit the LSTM network\n",
    "model = Sequential()\n",
    "model.add(LSTM(4, input_shape=(1, look_back)))\n",
    "model.add(Dense(1))\n",
    "model.compile(loss='mean_squared_error', optimizer='adam')\n",
    "model.fit(trainX, trainY, epochs=65, batch_size=1, verbose=2)"
   ]
  },
  {
   "cell_type": "code",
   "execution_count": 16,
   "metadata": {},
   "outputs": [
    {
     "name": "stdout",
     "output_type": "stream",
     "text": [
      "Train Score: 21.37 RMSE\n",
      "Test Score: 46.93 RMSE\n"
     ]
    }
   ],
   "source": [
    "# make predictions\n",
    "trainPredict = model.predict(trainX)\n",
    "testPredict = model.predict(testX)\n",
    "# invert predictions\n",
    "trainPredict = scaler.inverse_transform(trainPredict)\n",
    "trainY = scaler.inverse_transform([trainY])\n",
    "testPredict = scaler.inverse_transform(testPredict)\n",
    "testY = scaler.inverse_transform([testY])\n",
    "# calculate root mean squared error\n",
    "trainScore = math.sqrt(mean_squared_error(trainY[0], trainPredict[:,0]))\n",
    "print('Train Score: %.2f RMSE' % (trainScore))\n",
    "testScore = math.sqrt(mean_squared_error(testY[0], testPredict[:,0]))\n",
    "print('Test Score: %.2f RMSE' % (testScore))"
   ]
  },
  {
   "cell_type": "code",
   "execution_count": 17,
   "metadata": {},
   "outputs": [],
   "source": [
    "#Because of how the dataset was prepared, we must shift the predictionsso that they align on the x-axis with the original dataset.\n",
    "#Once prepared, the data is plotted, showing the original dataset in blue, the predictions for the training dataset in green, \n",
    "#and the predictions on the unseen test dataset in red."
   ]
  },
  {
   "cell_type": "code",
   "execution_count": 18,
   "metadata": {},
   "outputs": [
    {
     "data": {
      "image/png": "[encoded data removed]",
      "text/plain": [
       "<Figure size 432x288 with 1 Axes>"
      ]
     },
     "metadata": {
      "needs_background": "light"
     },
     "output_type": "display_data"
    }
   ],
   "source": [
    "# shift train predictions for plotting\n",
    "trainPredictPlot = np.empty_like(dataset)\n",
    "trainPredictPlot[:, :] = np.nan\n",
    "trainPredictPlot[look_back:len(trainPredict)+look_back, :] = trainPredict\n",
    "# shift test predictions for plotting\n",
    "testPredictPlot = np.empty_like(dataset)\n",
    "testPredictPlot[:, :] = np.nan\n",
    "testPredictPlot[len(trainPredict)+(look_back*2)+1:len(dataset)-1, :] = testPredict\n",
    "# plot baseline and predictions\n",
    "plt.plot(scaler.inverse_transform(dataset))\n",
    "plt.plot(trainPredictPlot)\n",
    "plt.plot(testPredictPlot)\n",
    "plt.show()"
   ]
  },
  {
   "cell_type": "code",
   "execution_count": null,
   "metadata": {},
   "outputs": [],
   "source": []
  }
 ],
 "metadata": {
  "kernelspec": {
   "display_name": "Python 3",
   "language": "python",
   "name": "python3"
  },
  "language_info": {
   "codemirror_mode": {
    "name": "ipython",
    "version": 3
   },
   "file_extension": ".py",
   "mimetype": "text/x-python",
   "name": "python",
   "nbconvert_exporter": "python",
   "pygments_lexer": "ipython3",
   "version": "3.8.5"
  }
 },
 "nbformat": 4,
 "nbformat_minor": 4
}
